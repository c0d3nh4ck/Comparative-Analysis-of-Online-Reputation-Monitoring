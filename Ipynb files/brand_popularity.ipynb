{
 "cells": [
  {
   "cell_type": "code",
   "execution_count": 1,
   "metadata": {},
   "outputs": [],
   "source": [
    "import pandas as pd\n",
    "import matplotlib.pyplot as plt"
   ]
  },
  {
   "cell_type": "code",
   "execution_count": 2,
   "metadata": {
    "scrolled": true
   },
   "outputs": [
    {
     "data": {
      "text/html": [
       "<div>\n",
       "<style scoped>\n",
       "    .dataframe tbody tr th:only-of-type {\n",
       "        vertical-align: middle;\n",
       "    }\n",
       "\n",
       "    .dataframe tbody tr th {\n",
       "        vertical-align: top;\n",
       "    }\n",
       "\n",
       "    .dataframe thead th {\n",
       "        text-align: right;\n",
       "    }\n",
       "</style>\n",
       "<table border=\"1\" class=\"dataframe\">\n",
       "  <thead>\n",
       "    <tr style=\"text-align: right;\">\n",
       "      <th></th>\n",
       "      <th>tweet_id</th>\n",
       "      <th>text</th>\n",
       "      <th>retweets</th>\n",
       "      <th>likes</th>\n",
       "    </tr>\n",
       "  </thead>\n",
       "  <tbody>\n",
       "    <tr>\n",
       "      <th>0</th>\n",
       "      <td>205888692580126720</td>\n",
       "      <td>#radensaleh not myth learn life bring kids gal...</td>\n",
       "      <td>0</td>\n",
       "      <td>1</td>\n",
       "    </tr>\n",
       "    <tr>\n",
       "      <th>1</th>\n",
       "      <td>207430942028079104</td>\n",
       "      <td>new bmw 3 series awarded 5 stars euro ncap cra...</td>\n",
       "      <td>0</td>\n",
       "      <td>2</td>\n",
       "    </tr>\n",
       "    <tr>\n",
       "      <th>2</th>\n",
       "      <td>208204757779759105</td>\n",
       "      <td>bmw hand 200 electric vehicles olympics</td>\n",
       "      <td>0</td>\n",
       "      <td>1</td>\n",
       "    </tr>\n",
       "    <tr>\n",
       "      <th>3</th>\n",
       "      <td>208283774251831296</td>\n",
       "      <td>asked sauber info images split car said shows ...</td>\n",
       "      <td>1</td>\n",
       "      <td>3</td>\n",
       "    </tr>\n",
       "    <tr>\n",
       "      <th>4</th>\n",
       "      <td>208342777627549696</td>\n",
       "      <td>racky think im driving bmw something</td>\n",
       "      <td>0</td>\n",
       "      <td>0</td>\n",
       "    </tr>\n",
       "    <tr>\n",
       "      <th>...</th>\n",
       "      <td>...</td>\n",
       "      <td>...</td>\n",
       "      <td>...</td>\n",
       "      <td>...</td>\n",
       "    </tr>\n",
       "    <tr>\n",
       "      <th>450</th>\n",
       "      <td>209938458611941376</td>\n",
       "      <td>free black bmw choice curious visit</td>\n",
       "      <td>0</td>\n",
       "      <td>0</td>\n",
       "    </tr>\n",
       "    <tr>\n",
       "      <th>451</th>\n",
       "      <td>208968123179741184</td>\n",
       "      <td>1980 bmw r100rs cafe racer via</td>\n",
       "      <td>0</td>\n",
       "      <td>0</td>\n",
       "    </tr>\n",
       "    <tr>\n",
       "      <th>452</th>\n",
       "      <td>210234207379800064</td>\n",
       "      <td>agree money not buy happiness somehow comforta...</td>\n",
       "      <td>0</td>\n",
       "      <td>0</td>\n",
       "    </tr>\n",
       "    <tr>\n",
       "      <th>453</th>\n",
       "      <td>209609738441334784</td>\n",
       "      <td>bmw r100 7 4h10 paris via</td>\n",
       "      <td>0</td>\n",
       "      <td>0</td>\n",
       "    </tr>\n",
       "    <tr>\n",
       "      <th>454</th>\n",
       "      <td>212247976297512960</td>\n",
       "      <td>gm bmw toyota audi mercedes honda jaguar agree...</td>\n",
       "      <td>15</td>\n",
       "      <td>139</td>\n",
       "    </tr>\n",
       "  </tbody>\n",
       "</table>\n",
       "<p>455 rows × 4 columns</p>\n",
       "</div>"
      ],
      "text/plain": [
       "               tweet_id                                               text  \\\n",
       "0    205888692580126720  #radensaleh not myth learn life bring kids gal...   \n",
       "1    207430942028079104  new bmw 3 series awarded 5 stars euro ncap cra...   \n",
       "2    208204757779759105            bmw hand 200 electric vehicles olympics   \n",
       "3    208283774251831296  asked sauber info images split car said shows ...   \n",
       "4    208342777627549696               racky think im driving bmw something   \n",
       "..                  ...                                                ...   \n",
       "450  209938458611941376                free black bmw choice curious visit   \n",
       "451  208968123179741184                     1980 bmw r100rs cafe racer via   \n",
       "452  210234207379800064  agree money not buy happiness somehow comforta...   \n",
       "453  209609738441334784                          bmw r100 7 4h10 paris via   \n",
       "454  212247976297512960  gm bmw toyota audi mercedes honda jaguar agree...   \n",
       "\n",
       "     retweets  likes  \n",
       "0           0      1  \n",
       "1           0      2  \n",
       "2           0      1  \n",
       "3           1      3  \n",
       "4           0      0  \n",
       "..        ...    ...  \n",
       "450         0      0  \n",
       "451         0      0  \n",
       "452         0      0  \n",
       "453         0      0  \n",
       "454        15    139  \n",
       "\n",
       "[455 rows x 4 columns]"
      ]
     },
     "execution_count": 2,
     "metadata": {},
     "output_type": "execute_result"
    }
   ],
   "source": [
    "tweets = pd.read_csv('lks_rtwts.csv')\n",
    "tweets"
   ]
  },
  {
   "cell_type": "code",
   "execution_count": 3,
   "metadata": {
    "scrolled": true
   },
   "outputs": [
    {
     "data": {
      "text/plain": [
       "<matplotlib.axes._subplots.AxesSubplot at 0x1da8a792508>"
      ]
     },
     "execution_count": 3,
     "metadata": {},
     "output_type": "execute_result"
    },
    {
     "data": {
      "image/png": "[encoded data removed]",
      "text/plain": [
       "<Figure size 432x288 with 1 Axes>"
      ]
     },
     "metadata": {
      "needs_background": "light"
     },
     "output_type": "display_data"
    }
   ],
   "source": [
    "'''calulating polarity scores using Afinn library'''\n",
    "\n",
    "from afinn import Afinn\n",
    "afinn = Afinn()\n",
    "def polarity(text):\n",
    "    return afinn.score(text)\n",
    "\n",
    "tweets['polarity_score'] = tweets['text'].\\\n",
    "    apply(lambda x: polarity(x))\n",
    "tweets['polarity_score'].hist()"
   ]
  },
  {
   "cell_type": "code",
   "execution_count": 4,
   "metadata": {
    "scrolled": true
   },
   "outputs": [
    {
     "data": {
      "text/html": [
       "<div>\n",
       "<style scoped>\n",
       "    .dataframe tbody tr th:only-of-type {\n",
       "        vertical-align: middle;\n",
       "    }\n",
       "\n",
       "    .dataframe tbody tr th {\n",
       "        vertical-align: top;\n",
       "    }\n",
       "\n",
       "    .dataframe thead th {\n",
       "        text-align: right;\n",
       "    }\n",
       "</style>\n",
       "<table border=\"1\" class=\"dataframe\">\n",
       "  <thead>\n",
       "    <tr style=\"text-align: right;\">\n",
       "      <th></th>\n",
       "      <th>tweet_id</th>\n",
       "      <th>text</th>\n",
       "      <th>retweets</th>\n",
       "      <th>likes</th>\n",
       "      <th>polarity_score</th>\n",
       "    </tr>\n",
       "  </thead>\n",
       "  <tbody>\n",
       "    <tr>\n",
       "      <th>0</th>\n",
       "      <td>205888692580126720</td>\n",
       "      <td>#radensaleh not myth learn life bring kids gal...</td>\n",
       "      <td>0</td>\n",
       "      <td>1</td>\n",
       "      <td>-1.0</td>\n",
       "    </tr>\n",
       "    <tr>\n",
       "      <th>1</th>\n",
       "      <td>207430942028079104</td>\n",
       "      <td>new bmw 3 series awarded 5 stars euro ncap cra...</td>\n",
       "      <td>0</td>\n",
       "      <td>2</td>\n",
       "      <td>1.0</td>\n",
       "    </tr>\n",
       "    <tr>\n",
       "      <th>2</th>\n",
       "      <td>208204757779759105</td>\n",
       "      <td>bmw hand 200 electric vehicles olympics</td>\n",
       "      <td>0</td>\n",
       "      <td>1</td>\n",
       "      <td>0.0</td>\n",
       "    </tr>\n",
       "    <tr>\n",
       "      <th>3</th>\n",
       "      <td>208283774251831296</td>\n",
       "      <td>asked sauber info images split car said shows ...</td>\n",
       "      <td>1</td>\n",
       "      <td>3</td>\n",
       "      <td>0.0</td>\n",
       "    </tr>\n",
       "    <tr>\n",
       "      <th>4</th>\n",
       "      <td>208342777627549696</td>\n",
       "      <td>racky think im driving bmw something</td>\n",
       "      <td>0</td>\n",
       "      <td>0</td>\n",
       "      <td>0.0</td>\n",
       "    </tr>\n",
       "    <tr>\n",
       "      <th>...</th>\n",
       "      <td>...</td>\n",
       "      <td>...</td>\n",
       "      <td>...</td>\n",
       "      <td>...</td>\n",
       "      <td>...</td>\n",
       "    </tr>\n",
       "    <tr>\n",
       "      <th>450</th>\n",
       "      <td>209938458611941376</td>\n",
       "      <td>free black bmw choice curious visit</td>\n",
       "      <td>0</td>\n",
       "      <td>0</td>\n",
       "      <td>2.0</td>\n",
       "    </tr>\n",
       "    <tr>\n",
       "      <th>451</th>\n",
       "      <td>208968123179741184</td>\n",
       "      <td>1980 bmw r100rs cafe racer via</td>\n",
       "      <td>0</td>\n",
       "      <td>0</td>\n",
       "      <td>0.0</td>\n",
       "    </tr>\n",
       "    <tr>\n",
       "      <th>452</th>\n",
       "      <td>210234207379800064</td>\n",
       "      <td>agree money not buy happiness somehow comforta...</td>\n",
       "      <td>0</td>\n",
       "      <td>0</td>\n",
       "      <td>5.0</td>\n",
       "    </tr>\n",
       "    <tr>\n",
       "      <th>453</th>\n",
       "      <td>209609738441334784</td>\n",
       "      <td>bmw r100 7 4h10 paris via</td>\n",
       "      <td>0</td>\n",
       "      <td>0</td>\n",
       "      <td>0.0</td>\n",
       "    </tr>\n",
       "    <tr>\n",
       "      <th>454</th>\n",
       "      <td>212247976297512960</td>\n",
       "      <td>gm bmw toyota audi mercedes honda jaguar agree...</td>\n",
       "      <td>15</td>\n",
       "      <td>139</td>\n",
       "      <td>1.0</td>\n",
       "    </tr>\n",
       "  </tbody>\n",
       "</table>\n",
       "<p>455 rows × 5 columns</p>\n",
       "</div>"
      ],
      "text/plain": [
       "               tweet_id                                               text  \\\n",
       "0    205888692580126720  #radensaleh not myth learn life bring kids gal...   \n",
       "1    207430942028079104  new bmw 3 series awarded 5 stars euro ncap cra...   \n",
       "2    208204757779759105            bmw hand 200 electric vehicles olympics   \n",
       "3    208283774251831296  asked sauber info images split car said shows ...   \n",
       "4    208342777627549696               racky think im driving bmw something   \n",
       "..                  ...                                                ...   \n",
       "450  209938458611941376                free black bmw choice curious visit   \n",
       "451  208968123179741184                     1980 bmw r100rs cafe racer via   \n",
       "452  210234207379800064  agree money not buy happiness somehow comforta...   \n",
       "453  209609738441334784                          bmw r100 7 4h10 paris via   \n",
       "454  212247976297512960  gm bmw toyota audi mercedes honda jaguar agree...   \n",
       "\n",
       "     retweets  likes  polarity_score  \n",
       "0           0      1            -1.0  \n",
       "1           0      2             1.0  \n",
       "2           0      1             0.0  \n",
       "3           1      3             0.0  \n",
       "4           0      0             0.0  \n",
       "..        ...    ...             ...  \n",
       "450         0      0             2.0  \n",
       "451         0      0             0.0  \n",
       "452         0      0             5.0  \n",
       "453         0      0             0.0  \n",
       "454        15    139             1.0  \n",
       "\n",
       "[455 rows x 5 columns]"
      ]
     },
     "execution_count": 4,
     "metadata": {},
     "output_type": "execute_result"
    }
   ],
   "source": [
    "tweets       # showing tweets' info with their polarity scores"
   ]
  },
  {
   "cell_type": "code",
   "execution_count": 5,
   "metadata": {},
   "outputs": [
    {
     "data": {
      "text/plain": [
       "<BarContainer object of 3 artists>"
      ]
     },
     "execution_count": 5,
     "metadata": {},
     "output_type": "execute_result"
    },
    {
     "data": {
      "image/png": "[encoded data removed]",
      "text/plain": [
       "<Figure size 432x288 with 1 Axes>"
      ]
     },
     "metadata": {
      "needs_background": "light"
     },
     "output_type": "display_data"
    }
   ],
   "source": [
    "lks = []         # to store no. of likes with their sentiments\n",
    "\n",
    "for i in range(455):\n",
    "    \n",
    "    if tweets.loc[i]['polarity_score'] > 0:\n",
    "        lks = lks + ['pos'] * tweets.loc[i]['likes']\n",
    "        \n",
    "    if tweets.loc[i]['polarity_score'] == 0:\n",
    "        lks = lks + ['neu'] * tweets.loc[i]['likes']\n",
    "        \n",
    "    if tweets.loc[i]['polarity_score'] < 0:\n",
    "        lks = lks + ['neg'] * tweets.loc[i]['likes']\n",
    "        \n",
    "        \n",
    "from collections import Counter\n",
    "counter = Counter(lks)\n",
    "most = counter.most_common()\n",
    "\n",
    "x, y = [], []\n",
    "for word,count in most:\n",
    "    x.append(word)\n",
    "    y.append(count)\n",
    "\n",
    "plt.ylabel('no. of likes', fontsize=14)\n",
    "plt.bar(x,y)     # no. of likes vs sentiments of those tweets"
   ]
  },
  {
   "cell_type": "code",
   "execution_count": 6,
   "metadata": {},
   "outputs": [
    {
     "data": {
      "text/plain": [
       "<BarContainer object of 10 artists>"
      ]
     },
     "execution_count": 6,
     "metadata": {},
     "output_type": "execute_result"
    },
    {
     "data": {
      "image/png": "[encoded data removed]",
      "text/plain": [
       "<Figure size 432x288 with 1 Axes>"
      ]
     },
     "metadata": {
      "needs_background": "light"
     },
     "output_type": "display_data"
    }
   ],
   "source": [
    "lks_afn_scr = []        # to store no. of likes with their polarity scores\n",
    "\n",
    "for i in range(455):\n",
    "    for j in range(-5,6):\n",
    "        if tweets.loc[i]['polarity_score'] == j:\n",
    "            lks_afn_scr = lks_afn_scr + [j] * tweets.loc[i]['likes']\n",
    "            break\n",
    "\n",
    "most = Counter(lks_afn_scr).most_common()\n",
    "\n",
    "x, y = [], []\n",
    "for score,count in most:\n",
    "    x.append(score)\n",
    "    y.append(count)\n",
    "    \n",
    "plt.ylabel('no. of likes', fontsize=14)\n",
    "plt.xlabel('polarity score', fontsize=14)\n",
    "plt.xticks(list(range(-5,6)))\n",
    "plt.bar(x,y)      # no. of likes vs polarity score of those tweets"
   ]
  },
  {
   "cell_type": "code",
   "execution_count": 7,
   "metadata": {},
   "outputs": [
    {
     "data": {
      "text/plain": [
       "<BarContainer object of 3 artists>"
      ]
     },
     "execution_count": 7,
     "metadata": {},
     "output_type": "execute_result"
    },
    {
     "data": {
      "image/png": "[encoded data removed]",
      "text/plain": [
       "<Figure size 432x288 with 1 Axes>"
      ]
     },
     "metadata": {
      "needs_background": "light"
     },
     "output_type": "display_data"
    }
   ],
   "source": [
    "rtwts = []      # to store no. of retweets with their sentiments\n",
    "\n",
    "for i in range(455):\n",
    "    \n",
    "    if tweets.loc[i]['polarity_score'] > 0:\n",
    "        rtwts = rtwts + ['pos'] * tweets.loc[i]['retweets']\n",
    "        \n",
    "    if tweets.loc[i]['polarity_score'] == 0:\n",
    "        rtwts = rtwts + ['neu'] * tweets.loc[i]['retweets']\n",
    "        \n",
    "    if tweets.loc[i]['polarity_score'] < 0:\n",
    "        rtwts = rtwts + ['neg'] * tweets.loc[i]['retweets']\n",
    "        \n",
    "        \n",
    "most = Counter(rtwts).most_common()\n",
    "\n",
    "x, y = [], []\n",
    "for word,count in most:\n",
    "    x.append(word)\n",
    "    y.append(count)\n",
    "\n",
    "plt.ylabel('no. of retweets', fontsize=14)\n",
    "plt.bar(x,y)     # no. of retweets vs sentiments of those tweets"
   ]
  },
  {
   "cell_type": "code",
   "execution_count": 8,
   "metadata": {},
   "outputs": [
    {
     "data": {
      "text/plain": [
       "<BarContainer object of 9 artists>"
      ]
     },
     "execution_count": 8,
     "metadata": {},
     "output_type": "execute_result"
    },
    {
     "data": {
      "image/png": "[encoded data removed]",
      "text/plain": [
       "<Figure size 432x288 with 1 Axes>"
      ]
     },
     "metadata": {
      "needs_background": "light"
     },
     "output_type": "display_data"
    }
   ],
   "source": [
    "rtwts_afn_scr = []        # to store no. of retweets with thier polarity scores\n",
    "\n",
    "for i in range(455):\n",
    "    for j in range(-5,6):\n",
    "        if tweets.loc[i]['polarity_score'] == j:\n",
    "            rtwts_afn_scr = rtwts_afn_scr + [j] * tweets.loc[i]['retweets']\n",
    "            break\n",
    "            \n",
    "most = Counter(rtwts_afn_scr).most_common()\n",
    "\n",
    "x, y = [], []\n",
    "for score,count in most:\n",
    "    x.append(score)\n",
    "    y.append(count)\n",
    "    \n",
    "plt.ylabel('no. of retweets', fontsize=14)\n",
    "plt.xlabel('polarity score', fontsize=14)\n",
    "plt.xticks(list(range(-5,6)))\n",
    "plt.bar(x,y) # no. of retweets vs polarity score of those tweets"
   ]
  }
 ],
 "metadata": {
  "kernelspec": {
   "display_name": "Python 3",
   "language": "python",
   "name": "python3"
  },
  "language_info": {
   "codemirror_mode": {
    "name": "ipython",
    "version": 3
   },
   "file_extension": ".py",
   "mimetype": "text/x-python",
   "name": "python",
   "nbconvert_exporter": "python",
   "pygments_lexer": "ipython3",
   "version": "3.7.6"
  }
 },
 "nbformat": 4,
 "nbformat_minor": 4
}
