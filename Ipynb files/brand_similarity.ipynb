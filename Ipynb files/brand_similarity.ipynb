{
 "cells": [
  {
   "cell_type": "code",
   "execution_count": 1,
   "metadata": {},
   "outputs": [],
   "source": [
    "import pandas as pd\n",
    "from sklearn.feature_extraction.text import TfidfVectorizer\n",
    "from sklearn.metrics.pairwise import linear_kernel"
   ]
  },
  {
   "cell_type": "code",
   "execution_count": 2,
   "metadata": {},
   "outputs": [],
   "source": [
    "tweets_info = pd.read_csv('lks_rtwts.csv')\n",
    "tweets = list(tweets_info['text'])"
   ]
  },
  {
   "cell_type": "code",
   "execution_count": 3,
   "metadata": {},
   "outputs": [
    {
     "data": {
      "text/html": [
       "<div>\n",
       "<style scoped>\n",
       "    .dataframe tbody tr th:only-of-type {\n",
       "        vertical-align: middle;\n",
       "    }\n",
       "\n",
       "    .dataframe tbody tr th {\n",
       "        vertical-align: top;\n",
       "    }\n",
       "\n",
       "    .dataframe thead th {\n",
       "        text-align: right;\n",
       "    }\n",
       "</style>\n",
       "<table border=\"1\" class=\"dataframe\">\n",
       "  <thead>\n",
       "    <tr style=\"text-align: right;\">\n",
       "      <th></th>\n",
       "      <th>tweet_id</th>\n",
       "      <th>text</th>\n",
       "      <th>retweets</th>\n",
       "      <th>likes</th>\n",
       "    </tr>\n",
       "  </thead>\n",
       "  <tbody>\n",
       "    <tr>\n",
       "      <th>0</th>\n",
       "      <td>205888692580126720</td>\n",
       "      <td>#radensaleh not myth learn life bring kids gal...</td>\n",
       "      <td>0</td>\n",
       "      <td>1</td>\n",
       "    </tr>\n",
       "    <tr>\n",
       "      <th>1</th>\n",
       "      <td>207430942028079104</td>\n",
       "      <td>new bmw 3 series awarded 5 stars euro ncap cra...</td>\n",
       "      <td>0</td>\n",
       "      <td>2</td>\n",
       "    </tr>\n",
       "    <tr>\n",
       "      <th>2</th>\n",
       "      <td>208204757779759105</td>\n",
       "      <td>bmw hand 200 electric vehicles olympics</td>\n",
       "      <td>0</td>\n",
       "      <td>1</td>\n",
       "    </tr>\n",
       "    <tr>\n",
       "      <th>3</th>\n",
       "      <td>208283774251831296</td>\n",
       "      <td>asked sauber info images split car said shows ...</td>\n",
       "      <td>1</td>\n",
       "      <td>3</td>\n",
       "    </tr>\n",
       "    <tr>\n",
       "      <th>4</th>\n",
       "      <td>208342777627549696</td>\n",
       "      <td>racky think im driving bmw something</td>\n",
       "      <td>0</td>\n",
       "      <td>0</td>\n",
       "    </tr>\n",
       "    <tr>\n",
       "      <th>...</th>\n",
       "      <td>...</td>\n",
       "      <td>...</td>\n",
       "      <td>...</td>\n",
       "      <td>...</td>\n",
       "    </tr>\n",
       "    <tr>\n",
       "      <th>450</th>\n",
       "      <td>209938458611941376</td>\n",
       "      <td>free black bmw choice curious visit</td>\n",
       "      <td>0</td>\n",
       "      <td>0</td>\n",
       "    </tr>\n",
       "    <tr>\n",
       "      <th>451</th>\n",
       "      <td>208968123179741184</td>\n",
       "      <td>1980 bmw r100rs cafe racer via</td>\n",
       "      <td>0</td>\n",
       "      <td>0</td>\n",
       "    </tr>\n",
       "    <tr>\n",
       "      <th>452</th>\n",
       "      <td>210234207379800064</td>\n",
       "      <td>agree money not buy happiness somehow comforta...</td>\n",
       "      <td>0</td>\n",
       "      <td>0</td>\n",
       "    </tr>\n",
       "    <tr>\n",
       "      <th>453</th>\n",
       "      <td>209609738441334784</td>\n",
       "      <td>bmw r100 7 4h10 paris via</td>\n",
       "      <td>0</td>\n",
       "      <td>0</td>\n",
       "    </tr>\n",
       "    <tr>\n",
       "      <th>454</th>\n",
       "      <td>212247976297512960</td>\n",
       "      <td>gm bmw toyota audi mercedes honda jaguar agree...</td>\n",
       "      <td>15</td>\n",
       "      <td>139</td>\n",
       "    </tr>\n",
       "  </tbody>\n",
       "</table>\n",
       "<p>455 rows × 4 columns</p>\n",
       "</div>"
      ],
      "text/plain": [
       "               tweet_id                                               text  \\\n",
       "0    205888692580126720  #radensaleh not myth learn life bring kids gal...   \n",
       "1    207430942028079104  new bmw 3 series awarded 5 stars euro ncap cra...   \n",
       "2    208204757779759105            bmw hand 200 electric vehicles olympics   \n",
       "3    208283774251831296  asked sauber info images split car said shows ...   \n",
       "4    208342777627549696               racky think im driving bmw something   \n",
       "..                  ...                                                ...   \n",
       "450  209938458611941376                free black bmw choice curious visit   \n",
       "451  208968123179741184                     1980 bmw r100rs cafe racer via   \n",
       "452  210234207379800064  agree money not buy happiness somehow comforta...   \n",
       "453  209609738441334784                          bmw r100 7 4h10 paris via   \n",
       "454  212247976297512960  gm bmw toyota audi mercedes honda jaguar agree...   \n",
       "\n",
       "     retweets  likes  \n",
       "0           0      1  \n",
       "1           0      2  \n",
       "2           0      1  \n",
       "3           1      3  \n",
       "4           0      0  \n",
       "..        ...    ...  \n",
       "450         0      0  \n",
       "451         0      0  \n",
       "452         0      0  \n",
       "453         0      0  \n",
       "454        15    139  \n",
       "\n",
       "[455 rows x 4 columns]"
      ]
     },
     "execution_count": 3,
     "metadata": {},
     "output_type": "execute_result"
    }
   ],
   "source": [
    "tweets_info"
   ]
  },
  {
   "cell_type": "code",
   "execution_count": 4,
   "metadata": {},
   "outputs": [],
   "source": [
    "def similarity_data(tweets, feature_extraction, tdm, tweets_tdm):\n",
    "    \"\"\"\n",
    "    Go through all the tweets and create a map for each tweet and\n",
    "    there cosine similarities\n",
    "    \"\"\"\n",
    "    # a list of dictionaries containing list of related tweets and the\n",
    "    # cosine value\n",
    "    cosine_value_map = []\n",
    "    for tweet in tweets:\n",
    "        temp = {tweet:[]}\n",
    "        query = feature_extraction.transform([tweet])\n",
    "        cosine_similarities = linear_kernel(query, tdm).flatten()\n",
    "        related_docs_indices = cosine_similarities.argsort()[:-4:-1]\n",
    "        for index in related_docs_indices:\n",
    "            if cosine_similarities[index] > 0.3:       # threshold value for cosine similarity\n",
    "                temp[tweet].append((tweets_tdm[index], cosine_similarities[index], index))\n",
    "        cosine_value_map.append(temp)\n",
    "     \n",
    "    # saving all the values to \"data\" in the form of table\n",
    "    data = {'tweet_one':[], 'tweet_two':[], 'cosine_relation':[], 'index':[]}\n",
    "    for item in cosine_value_map:\n",
    "        for key in item.keys():\n",
    "            for processed_data in item[key]:\n",
    "                if key != processed_data[0]:\n",
    "                    data['tweet_one'].append(key)\n",
    "                    data['tweet_two'].append(processed_data[0])\n",
    "                    data['cosine_relation'].append(processed_data[1])\n",
    "                    data['index'].append(processed_data[2])\n",
    "                \n",
    "    return data"
   ]
  },
  {
   "cell_type": "code",
   "execution_count": 5,
   "metadata": {},
   "outputs": [],
   "source": [
    "def avg_len(df):\n",
    "    \"\"\"\n",
    "    to find average cosine similarity and number of similar tweets\n",
    "    \"\"\"\n",
    "    avg = 0\n",
    "    num = len(df.index)\n",
    "    \n",
    "    for i in range(num):\n",
    "        avg = avg + df.loc[i]['cosine_relation']\n",
    "        \n",
    "    print(\"Average Cosine Similarity :\" , avg/num)\n",
    "    print(\"Number of similar tweets :\", num)\n",
    "    \n",
    "    return avg/num, num"
   ]
  },
  {
   "cell_type": "code",
   "execution_count": 6,
   "metadata": {
    "scrolled": true
   },
   "outputs": [
    {
     "data": {
      "text/html": [
       "<div>\n",
       "<style scoped>\n",
       "    .dataframe tbody tr th:only-of-type {\n",
       "        vertical-align: middle;\n",
       "    }\n",
       "\n",
       "    .dataframe tbody tr th {\n",
       "        vertical-align: top;\n",
       "    }\n",
       "\n",
       "    .dataframe thead th {\n",
       "        text-align: right;\n",
       "    }\n",
       "</style>\n",
       "<table border=\"1\" class=\"dataframe\">\n",
       "  <thead>\n",
       "    <tr style=\"text-align: right;\">\n",
       "      <th></th>\n",
       "      <th>tweet_one</th>\n",
       "      <th>tweet_two</th>\n",
       "      <th>cosine_relation</th>\n",
       "      <th>index</th>\n",
       "    </tr>\n",
       "  </thead>\n",
       "  <tbody>\n",
       "    <tr>\n",
       "      <th>0</th>\n",
       "      <td>#for sale oe replacement bmw driver side headl...</td>\n",
       "      <td>#on sale depo 344 1110l asd bmw 5 series drive...</td>\n",
       "      <td>0.492694</td>\n",
       "      <td>15</td>\n",
       "    </tr>\n",
       "    <tr>\n",
       "      <th>1</th>\n",
       "      <td>#for sale oe replacement bmw driver side headl...</td>\n",
       "      <td>#forsale tyc 20 6472 01 bmw driver side headli...</td>\n",
       "      <td>0.363815</td>\n",
       "      <td>8</td>\n",
       "    </tr>\n",
       "    <tr>\n",
       "      <th>2</th>\n",
       "      <td>#forsale tyc 20 6472 01 bmw driver side headli...</td>\n",
       "      <td>#for sale oe replacement bmw driver side headl...</td>\n",
       "      <td>0.363815</td>\n",
       "      <td>6</td>\n",
       "    </tr>\n",
       "    <tr>\n",
       "      <th>3</th>\n",
       "      <td>#forsale tyc 20 6472 01 bmw driver side headli...</td>\n",
       "      <td>#on sale depo 344 1110l asd bmw 5 series drive...</td>\n",
       "      <td>0.300724</td>\n",
       "      <td>15</td>\n",
       "    </tr>\n",
       "    <tr>\n",
       "      <th>4</th>\n",
       "      <td>bmw reveals new performance m3 m5 uk market #l...</td>\n",
       "      <td>bmw m3 limited edition uk #1</td>\n",
       "      <td>0.303762</td>\n",
       "      <td>12</td>\n",
       "    </tr>\n",
       "    <tr>\n",
       "      <th>...</th>\n",
       "      <td>...</td>\n",
       "      <td>...</td>\n",
       "      <td>...</td>\n",
       "      <td>...</td>\n",
       "    </tr>\n",
       "    <tr>\n",
       "      <th>157</th>\n",
       "      <td>dawn mac button siri comes bmw gm land rover a...</td>\n",
       "      <td>dawn mac button siri comes bmw gm land rover a...</td>\n",
       "      <td>0.854956</td>\n",
       "      <td>446</td>\n",
       "    </tr>\n",
       "    <tr>\n",
       "      <th>158</th>\n",
       "      <td>dawn mac button siri comes bmw gm land rover a...</td>\n",
       "      <td>bmw gm mercedes land rvoer jaguar audi toyota ...</td>\n",
       "      <td>0.382951</td>\n",
       "      <td>442</td>\n",
       "    </tr>\n",
       "    <tr>\n",
       "      <th>159</th>\n",
       "      <td>1980 bmw r100rs cafe racer via</td>\n",
       "      <td>bmw cafe racer</td>\n",
       "      <td>0.637374</td>\n",
       "      <td>243</td>\n",
       "    </tr>\n",
       "    <tr>\n",
       "      <th>160</th>\n",
       "      <td>agree money not buy happiness somehow comforta...</td>\n",
       "      <td>agree money not buy happiness somehow comforta...</td>\n",
       "      <td>0.929729</td>\n",
       "      <td>112</td>\n",
       "    </tr>\n",
       "    <tr>\n",
       "      <th>161</th>\n",
       "      <td>gm bmw toyota audi mercedes honda jaguar agree...</td>\n",
       "      <td>new feature eyes free car manufacturers add si...</td>\n",
       "      <td>0.450275</td>\n",
       "      <td>441</td>\n",
       "    </tr>\n",
       "  </tbody>\n",
       "</table>\n",
       "<p>162 rows × 4 columns</p>\n",
       "</div>"
      ],
      "text/plain": [
       "                                             tweet_one  \\\n",
       "0    #for sale oe replacement bmw driver side headl...   \n",
       "1    #for sale oe replacement bmw driver side headl...   \n",
       "2    #forsale tyc 20 6472 01 bmw driver side headli...   \n",
       "3    #forsale tyc 20 6472 01 bmw driver side headli...   \n",
       "4    bmw reveals new performance m3 m5 uk market #l...   \n",
       "..                                                 ...   \n",
       "157  dawn mac button siri comes bmw gm land rover a...   \n",
       "158  dawn mac button siri comes bmw gm land rover a...   \n",
       "159                     1980 bmw r100rs cafe racer via   \n",
       "160  agree money not buy happiness somehow comforta...   \n",
       "161  gm bmw toyota audi mercedes honda jaguar agree...   \n",
       "\n",
       "                                             tweet_two  cosine_relation  index  \n",
       "0    #on sale depo 344 1110l asd bmw 5 series drive...         0.492694     15  \n",
       "1    #forsale tyc 20 6472 01 bmw driver side headli...         0.363815      8  \n",
       "2    #for sale oe replacement bmw driver side headl...         0.363815      6  \n",
       "3    #on sale depo 344 1110l asd bmw 5 series drive...         0.300724     15  \n",
       "4                         bmw m3 limited edition uk #1         0.303762     12  \n",
       "..                                                 ...              ...    ...  \n",
       "157  dawn mac button siri comes bmw gm land rover a...         0.854956    446  \n",
       "158  bmw gm mercedes land rvoer jaguar audi toyota ...         0.382951    442  \n",
       "159                                     bmw cafe racer         0.637374    243  \n",
       "160  agree money not buy happiness somehow comforta...         0.929729    112  \n",
       "161  new feature eyes free car manufacturers add si...         0.450275    441  \n",
       "\n",
       "[162 rows x 4 columns]"
      ]
     },
     "execution_count": 6,
     "metadata": {},
     "output_type": "execute_result"
    }
   ],
   "source": [
    "# list of similar tweets within a single entity tweets\n",
    "feature_extraction = TfidfVectorizer(analyzer='word')\n",
    "tdm = feature_extraction.fit_transform(tweets)\n",
    "\n",
    "data = similarity_data(tweets, feature_extraction, tdm, tweets)\n",
    "\n",
    "df = pd.DataFrame(data) \n",
    "df"
   ]
  },
  {
   "cell_type": "code",
   "execution_count": 7,
   "metadata": {},
   "outputs": [
    {
     "name": "stdout",
     "output_type": "stream",
     "text": [
      "Average Cosine Similarity : 0.5048826980953106\n",
      "Number of similar tweets : 162\n"
     ]
    },
    {
     "data": {
      "text/plain": [
       "(0.5048826980953106, 162)"
      ]
     },
     "execution_count": 7,
     "metadata": {},
     "output_type": "execute_result"
    }
   ],
   "source": [
    "avg_len(df)"
   ]
  },
  {
   "cell_type": "code",
   "execution_count": 8,
   "metadata": {},
   "outputs": [],
   "source": [
    "tweets_info1 = pd.read_csv('mix_files/ptd_RL2013D01E001.csv')   # BMW\n",
    "tweets_info2 = pd.read_csv('mix_files/ptd_RL2013D01E003.csv')   # Volvo\n",
    "tweets_info3 = pd.read_csv('mix_files/ptd_RL2013D02E051.csv')   # Royal Bank of Scotland\n",
    "tweets_info4 = pd.read_csv('mix_files/ptd_RL2013D02E054.csv')   # Barclays"
   ]
  },
  {
   "cell_type": "code",
   "execution_count": 9,
   "metadata": {},
   "outputs": [],
   "source": [
    "tweets1 = list(tweets_info1['text'])\n",
    "tweets2 = list(tweets_info2['text'])\n",
    "tweets3 = list(tweets_info3['text'])\n",
    "tweets4 = list(tweets_info4['text'])\n",
    "\n",
    "len1 = len(tweets1)\n",
    "len2 = len(tweets2)\n",
    "len3 = len(tweets3)\n",
    "len4 = len(tweets4)"
   ]
  },
  {
   "cell_type": "code",
   "execution_count": 10,
   "metadata": {},
   "outputs": [
    {
     "name": "stdout",
     "output_type": "stream",
     "text": [
      "Average Cosine Similarity : 0.4739998089307112\n",
      "Number of similar tweets : 52\n"
     ]
    }
   ],
   "source": [
    "# if comparing 1 and 2 i.e. BMW vs Volvo\n",
    "if len1 > len2:\n",
    "    tweets1 = tweets1[:len2]\n",
    "else:\n",
    "    tweets2 = tweets2[:len1]\n",
    "    \n",
    "feature_extraction = TfidfVectorizer(ngram_range=(1, 2))\n",
    "tdm = feature_extraction.fit_transform(tweets1)\n",
    "data1 = similarity_data(tweets2, feature_extraction, tdm, tweets1)\n",
    "\n",
    "df1 = pd.DataFrame(data1)\n",
    "\n",
    "cosine_avg1, num_twts1 = avg_len(df1)"
   ]
  },
  {
   "cell_type": "code",
   "execution_count": 11,
   "metadata": {},
   "outputs": [
    {
     "name": "stdout",
     "output_type": "stream",
     "text": [
      "Average Cosine Similarity : 0.3659376328361584\n",
      "Number of similar tweets : 58\n"
     ]
    }
   ],
   "source": [
    "# if comparing 1 and 3 i.e. BMW vs Royal Bank of Scotland\n",
    "if len1 > len3:\n",
    "    tweets1 = tweets1[:len3]\n",
    "else:\n",
    "    tweets3 = tweets3[:len1]\n",
    "    \n",
    "feature_extraction = TfidfVectorizer(ngram_range=(1, 2))\n",
    "tdm = feature_extraction.fit_transform(tweets1)\n",
    "data2 = similarity_data(tweets3, feature_extraction, tdm, tweets1)\n",
    "\n",
    "df2 = pd.DataFrame(data2)\n",
    "\n",
    "cosine_avg2, num_twts2 = avg_len(df2)"
   ]
  },
  {
   "cell_type": "code",
   "execution_count": 12,
   "metadata": {},
   "outputs": [
    {
     "name": "stdout",
     "output_type": "stream",
     "text": [
      "Average Cosine Similarity : 0.3688259538551511\n",
      "Number of similar tweets : 58\n"
     ]
    }
   ],
   "source": [
    "# if comparing 1 and 4 i.e. BMW vs Barclays\n",
    "if len1 > len4:\n",
    "    tweets1 = tweets1[:len4]\n",
    "else:\n",
    "    tweets4 = tweets4[:len1]\n",
    "    \n",
    "feature_extraction = TfidfVectorizer(ngram_range=(1, 2))\n",
    "tdm = feature_extraction.fit_transform(tweets1)\n",
    "data3 = similarity_data(tweets4, feature_extraction, tdm, tweets1)\n",
    "\n",
    "df3 = pd.DataFrame(data3)\n",
    "\n",
    "cosine_avg3, num_twts3 = avg_len(df3)"
   ]
  },
  {
   "cell_type": "code",
   "execution_count": 13,
   "metadata": {},
   "outputs": [
    {
     "name": "stdout",
     "output_type": "stream",
     "text": [
      "Average Cosine Similarity : 0.3652195980010636\n",
      "Number of similar tweets : 32\n"
     ]
    }
   ],
   "source": [
    "# if comparing 2 and 3 i.e. Volvo vs Royal Bank of Scotland\n",
    "if len2 > len3:\n",
    "    tweets2 = tweets2[:len3]\n",
    "else:\n",
    "    tweets3 = tweets3[:len2]\n",
    "    \n",
    "feature_extraction = TfidfVectorizer(ngram_range=(1, 2))\n",
    "tdm = feature_extraction.fit_transform(tweets2)\n",
    "data4 = similarity_data(tweets3, feature_extraction, tdm, tweets2)\n",
    "\n",
    "df4 = pd.DataFrame(data4)\n",
    "\n",
    "cosine_avg4, num_twts4 = avg_len(df4)"
   ]
  },
  {
   "cell_type": "code",
   "execution_count": 14,
   "metadata": {},
   "outputs": [
    {
     "name": "stdout",
     "output_type": "stream",
     "text": [
      "Average Cosine Similarity : 0.37671368616043943\n",
      "Number of similar tweets : 37\n"
     ]
    }
   ],
   "source": [
    "# if comparing 2 and 4 i.e. Volvo vs Barclays\n",
    "if len2 > len4:\n",
    "    tweets2 = tweets2[:len4]\n",
    "else:\n",
    "    tweets4 = tweets4[:len2]\n",
    "    \n",
    "feature_extraction = TfidfVectorizer(ngram_range=(1, 2))\n",
    "tdm = feature_extraction.fit_transform(tweets2)\n",
    "data5 = similarity_data(tweets4, feature_extraction, tdm, tweets2)\n",
    "\n",
    "df5 = pd.DataFrame(data5)\n",
    "\n",
    "cosine_avg5, num_twts5 = avg_len(df5)"
   ]
  },
  {
   "cell_type": "code",
   "execution_count": 15,
   "metadata": {},
   "outputs": [
    {
     "name": "stdout",
     "output_type": "stream",
     "text": [
      "Average Cosine Similarity : 0.3858679160835583\n",
      "Number of similar tweets : 22\n"
     ]
    }
   ],
   "source": [
    "# if comparing 3 and 4 i.e. Royal Bank of Scotland vs Barclays\n",
    "if len3 > len4:\n",
    "    tweets3 = tweets3[:len4]\n",
    "else:\n",
    "    tweets4 = tweets4[:len3]\n",
    "    \n",
    "feature_extraction = TfidfVectorizer(ngram_range=(1, 2))\n",
    "tdm = feature_extraction.fit_transform(tweets3)\n",
    "data6 = similarity_data(tweets4, feature_extraction, tdm, tweets3)\n",
    "\n",
    "df6 = pd.DataFrame(data6)\n",
    "\n",
    "cosine_avg6, num_twts6 = avg_len(df6)"
   ]
  }
 ],
 "metadata": {
  "kernelspec": {
   "display_name": "Python 3",
   "language": "python",
   "name": "python3"
  },
  "language_info": {
   "codemirror_mode": {
    "name": "ipython",
    "version": 3
   },
   "file_extension": ".py",
   "mimetype": "text/x-python",
   "name": "python",
   "nbconvert_exporter": "python",
   "pygments_lexer": "ipython3",
   "version": "3.7.6"
  }
 },
 "nbformat": 4,
 "nbformat_minor": 4
}
